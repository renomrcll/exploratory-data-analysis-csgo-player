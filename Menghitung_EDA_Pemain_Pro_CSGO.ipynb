{
  "nbformat": 4,
  "nbformat_minor": 0,
  "metadata": {
    "colab": {
      "name": "Menghitung EDA Pemain Pro CSGO.ipynb",
      "provenance": [],
      "collapsed_sections": [],
      "authorship_tag": "ABX9TyPJBcbcKoyymbxavvKfS8zt",
      "include_colab_link": true
    },
    "kernelspec": {
      "name": "python3",
      "display_name": "Python 3"
    },
    "language_info": {
      "name": "python"
    }
  },
  "cells": [
    {
      "cell_type": "markdown",
      "metadata": {
        "id": "view-in-github",
        "colab_type": "text"
      },
      "source": [
        "<a href=\"https://colab.research.google.com/github/renomrcll/exploratory-data-analysis-csgo-player/blob/main/Menghitung_EDA_Pemain_Pro_CSGO.ipynb\" target=\"_parent\"><img src=\"https://colab.research.google.com/assets/colab-badge.svg\" alt=\"Open In Colab\"/></a>"
      ]
    },
    {
      "cell_type": "markdown",
      "metadata": {
        "id": "7EjK46dDBHfq"
      },
      "source": [
        "**Reno Marcello Mohammad - 19/439821/TK/48551**\n"
      ]
    },
    {
      "cell_type": "markdown",
      "metadata": {
        "id": "IKuXsQml8v1f"
      },
      "source": [
        "Tugas Rekayasa Data - Analisis EDA dari Dataset Status Pemain CSGO Profesional"
      ]
    },
    {
      "cell_type": "markdown",
      "metadata": {
        "id": "8Ab9efkCBjCi"
      },
      "source": [
        "**Menyiapkan Dataset untuk Diolah**"
      ]
    },
    {
      "cell_type": "markdown",
      "metadata": {
        "id": "oPVQPsEsLk1B"
      },
      "source": [
        "**Import Libraries**\n"
      ]
    },
    {
      "cell_type": "code",
      "metadata": {
        "id": "LClTx1nPsQQQ"
      },
      "source": [
        "import pandas as pd\n",
        "import numpy as np\n",
        "import seaborn as sns\n",
        "import matplotlib.pyplot as plt"
      ],
      "execution_count": null,
      "outputs": []
    },
    {
      "cell_type": "markdown",
      "metadata": {
        "id": "ehNxzuHILQvx"
      },
      "source": [
        "**Mengunggah File .csv**"
      ]
    },
    {
      "cell_type": "code",
      "metadata": {
        "colab": {
          "resources": {
            "http://localhost:8080/nbextensions/google.colab/files.js": {
              "data": "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",
              "ok": true,
              "headers": [
                [
                  "content-type",
                  "application/javascript"
                ]
              ],
              "status": 200,
              "status_text": ""
            }
          },
          "base_uri": "https://localhost:8080/",
          "height": 72
        },
        "id": "sAh75yBLvUe0",
        "outputId": "be481b9c-d142-4d29-c77a-0a6993ee4296"
      },
      "source": [
        "from google.colab import files\n",
        "uploaded = files.upload()"
      ],
      "execution_count": null,
      "outputs": [
        {
          "output_type": "display_data",
          "data": {
            "text/html": [
              "\n",
              "     <input type=\"file\" id=\"files-493901b5-2b89-4a33-b5ed-b01606cf6521\" name=\"files[]\" multiple disabled\n",
              "        style=\"border:none\" />\n",
              "     <output id=\"result-493901b5-2b89-4a33-b5ed-b01606cf6521\">\n",
              "      Upload widget is only available when the cell has been executed in the\n",
              "      current browser session. Please rerun this cell to enable.\n",
              "      </output>\n",
              "      <script src=\"/nbextensions/google.colab/files.js\"></script> "
            ],
            "text/plain": [
              "<IPython.core.display.HTML object>"
            ]
          },
          "metadata": {}
        },
        {
          "output_type": "stream",
          "name": "stdout",
          "text": [
            "Saving player_stats.csv to player_stats (2).csv\n"
          ]
        }
      ]
    },
    {
      "cell_type": "code",
      "metadata": {
        "id": "hizbNlCp4CM-"
      },
      "source": [
        "import io\n",
        "pemain_df= pd.read_csv(io.BytesIO(uploaded['player_stats.csv']))"
      ],
      "execution_count": null,
      "outputs": []
    },
    {
      "cell_type": "markdown",
      "metadata": {
        "id": "oMB3vU52LsTZ"
      },
      "source": [
        "**Melihat Sample Data**"
      ]
    },
    {
      "cell_type": "code",
      "metadata": {
        "colab": {
          "base_uri": "https://localhost:8080/",
          "height": 359
        },
        "id": "V-ptFR9n4LSy",
        "outputId": "c16812c7-2923-4c70-dc41-707a535195de"
      },
      "source": [
        "pemain_df.drop(\"Unnamed: 0\", axis = 1, inplace=True)\n",
        "pemain_df.head(10)"
      ],
      "execution_count": null,
      "outputs": [
        {
          "output_type": "execute_result",
          "data": {
            "text/html": [
              "<div>\n",
              "<style scoped>\n",
              "    .dataframe tbody tr th:only-of-type {\n",
              "        vertical-align: middle;\n",
              "    }\n",
              "\n",
              "    .dataframe tbody tr th {\n",
              "        vertical-align: top;\n",
              "    }\n",
              "\n",
              "    .dataframe thead th {\n",
              "        text-align: right;\n",
              "    }\n",
              "</style>\n",
              "<table border=\"1\" class=\"dataframe\">\n",
              "  <thead>\n",
              "    <tr style=\"text-align: right;\">\n",
              "      <th></th>\n",
              "      <th>name</th>\n",
              "      <th>country</th>\n",
              "      <th>teams</th>\n",
              "      <th>total_maps</th>\n",
              "      <th>total_rounds</th>\n",
              "      <th>kd_diff</th>\n",
              "      <th>kd</th>\n",
              "      <th>rating</th>\n",
              "    </tr>\n",
              "  </thead>\n",
              "  <tbody>\n",
              "    <tr>\n",
              "      <th>0</th>\n",
              "      <td>ZywOo</td>\n",
              "      <td>France</td>\n",
              "      <td>['Vitality', 'aAa']</td>\n",
              "      <td>854</td>\n",
              "      <td>22399</td>\n",
              "      <td>5248</td>\n",
              "      <td>1.38</td>\n",
              "      <td>1.28</td>\n",
              "    </tr>\n",
              "    <tr>\n",
              "      <th>1</th>\n",
              "      <td>s1mple</td>\n",
              "      <td>Ukraine</td>\n",
              "      <td>['Natus Vincere', 'FlipSid3']</td>\n",
              "      <td>1429</td>\n",
              "      <td>37717</td>\n",
              "      <td>8070</td>\n",
              "      <td>1.33</td>\n",
              "      <td>1.25</td>\n",
              "    </tr>\n",
              "    <tr>\n",
              "      <th>2</th>\n",
              "      <td>deko</td>\n",
              "      <td>Russia</td>\n",
              "      <td>['1WIN']</td>\n",
              "      <td>190</td>\n",
              "      <td>5096</td>\n",
              "      <td>1250</td>\n",
              "      <td>1.42</td>\n",
              "      <td>1.24</td>\n",
              "    </tr>\n",
              "    <tr>\n",
              "      <th>3</th>\n",
              "      <td>saffee</td>\n",
              "      <td>Brazil</td>\n",
              "      <td>['paiN']</td>\n",
              "      <td>202</td>\n",
              "      <td>5383</td>\n",
              "      <td>1211</td>\n",
              "      <td>1.37</td>\n",
              "      <td>1.24</td>\n",
              "    </tr>\n",
              "    <tr>\n",
              "      <th>4</th>\n",
              "      <td>sh1ro</td>\n",
              "      <td>Russia</td>\n",
              "      <td>['Gambit', 'Gambit Youngsters']</td>\n",
              "      <td>744</td>\n",
              "      <td>19780</td>\n",
              "      <td>4593</td>\n",
              "      <td>1.43</td>\n",
              "      <td>1.22</td>\n",
              "    </tr>\n",
              "    <tr>\n",
              "      <th>5</th>\n",
              "      <td>m0NESY</td>\n",
              "      <td>Russia</td>\n",
              "      <td>['NAVI Junior']</td>\n",
              "      <td>144</td>\n",
              "      <td>3687</td>\n",
              "      <td>709</td>\n",
              "      <td>1.31</td>\n",
              "      <td>1.21</td>\n",
              "    </tr>\n",
              "    <tr>\n",
              "      <th>6</th>\n",
              "      <td>Kaze</td>\n",
              "      <td>Malaysia</td>\n",
              "      <td>['ViCi', 'Flash', 'MVP.karnal']</td>\n",
              "      <td>784</td>\n",
              "      <td>20459</td>\n",
              "      <td>3900</td>\n",
              "      <td>1.32</td>\n",
              "      <td>1.20</td>\n",
              "    </tr>\n",
              "    <tr>\n",
              "      <th>7</th>\n",
              "      <td>degster</td>\n",
              "      <td>Russia</td>\n",
              "      <td>['Spirit', 'Spirit', 'Espada']</td>\n",
              "      <td>555</td>\n",
              "      <td>14868</td>\n",
              "      <td>2745</td>\n",
              "      <td>1.31</td>\n",
              "      <td>1.19</td>\n",
              "    </tr>\n",
              "    <tr>\n",
              "      <th>8</th>\n",
              "      <td>sterling</td>\n",
              "      <td>New Zealand</td>\n",
              "      <td>['AVANT', 'Dire Wolves', 'Grayhound', 'Legacy'...</td>\n",
              "      <td>702</td>\n",
              "      <td>18010</td>\n",
              "      <td>3532</td>\n",
              "      <td>1.33</td>\n",
              "      <td>1.19</td>\n",
              "    </tr>\n",
              "    <tr>\n",
              "      <th>9</th>\n",
              "      <td>d4v41</td>\n",
              "      <td>Malaysia</td>\n",
              "      <td>['BOOT', 'FrostFire', 'Fire Dragoon', 'BOOT-d[...</td>\n",
              "      <td>308</td>\n",
              "      <td>8005</td>\n",
              "      <td>1358</td>\n",
              "      <td>1.27</td>\n",
              "      <td>1.18</td>\n",
              "    </tr>\n",
              "  </tbody>\n",
              "</table>\n",
              "</div>"
            ],
            "text/plain": [
              "       name      country  ...    kd  rating\n",
              "0     ZywOo       France  ...  1.38    1.28\n",
              "1    s1mple      Ukraine  ...  1.33    1.25\n",
              "2      deko       Russia  ...  1.42    1.24\n",
              "3    saffee       Brazil  ...  1.37    1.24\n",
              "4     sh1ro       Russia  ...  1.43    1.22\n",
              "5    m0NESY       Russia  ...  1.31    1.21\n",
              "6      Kaze     Malaysia  ...  1.32    1.20\n",
              "7   degster       Russia  ...  1.31    1.19\n",
              "8  sterling  New Zealand  ...  1.33    1.19\n",
              "9     d4v41     Malaysia  ...  1.27    1.18\n",
              "\n",
              "[10 rows x 8 columns]"
            ]
          },
          "metadata": {},
          "execution_count": 83
        }
      ]
    },
    {
      "cell_type": "code",
      "metadata": {
        "colab": {
          "base_uri": "https://localhost:8080/"
        },
        "id": "dDGMI4VANmLR",
        "outputId": "5775704f-b688-47c4-d037-bb3b951be61e"
      },
      "source": [
        "pemain_df.shape"
      ],
      "execution_count": null,
      "outputs": [
        {
          "output_type": "execute_result",
          "data": {
            "text/plain": [
              "(1869, 8)"
            ]
          },
          "metadata": {},
          "execution_count": 84
        }
      ]
    },
    {
      "cell_type": "markdown",
      "metadata": {
        "id": "WRF2QQEdNsZp"
      },
      "source": [
        "Terdapat 1869 Baris dan 8 Kolom"
      ]
    },
    {
      "cell_type": "markdown",
      "metadata": {
        "id": "BMoTWLYSN0Yx"
      },
      "source": [
        "Kolom-kolom tersebut adalah :"
      ]
    },
    {
      "cell_type": "code",
      "metadata": {
        "colab": {
          "base_uri": "https://localhost:8080/"
        },
        "id": "CjrHhHlcN2IB",
        "outputId": "f392fa82-7495-47f2-f1fb-1b35eae892e7"
      },
      "source": [
        "pemain_df.columns\n"
      ],
      "execution_count": null,
      "outputs": [
        {
          "output_type": "execute_result",
          "data": {
            "text/plain": [
              "Index(['name', 'country', 'teams', 'total_maps', 'total_rounds', 'kd_diff',\n",
              "       'kd', 'rating'],\n",
              "      dtype='object')"
            ]
          },
          "metadata": {},
          "execution_count": 85
        }
      ]
    },
    {
      "cell_type": "markdown",
      "metadata": {
        "id": "PMNvmp9eAZtv"
      },
      "source": [
        "Terdapat 8 kolom, yaitu name, country, teams, total_maps, total_rounds, kd_diff, kd, dan rating."
      ]
    },
    {
      "cell_type": "markdown",
      "metadata": {
        "id": "rL8oWh2bBGfr"
      },
      "source": [
        "**Melakukan Data Cleaning**"
      ]
    },
    {
      "cell_type": "code",
      "metadata": {
        "colab": {
          "base_uri": "https://localhost:8080/"
        },
        "id": "CZrd-D_c4dHw",
        "outputId": "f82f19ad-e7b3-4311-ecb6-4dbc06375e43"
      },
      "source": [
        "pemain_df.isnull().sum()"
      ],
      "execution_count": null,
      "outputs": [
        {
          "output_type": "execute_result",
          "data": {
            "text/plain": [
              "name            0\n",
              "country         0\n",
              "teams           0\n",
              "total_maps      0\n",
              "total_rounds    0\n",
              "kd_diff         0\n",
              "kd              0\n",
              "rating          0\n",
              "dtype: int64"
            ]
          },
          "metadata": {},
          "execution_count": 86
        }
      ]
    },
    {
      "cell_type": "markdown",
      "metadata": {
        "id": "UvAZ44cZPcKb"
      },
      "source": [
        "Tidak perlu dilakukan data cleaning karena sudah tidak ada yang null."
      ]
    },
    {
      "cell_type": "markdown",
      "metadata": {
        "id": "88f5mkhOlIoi"
      },
      "source": [
        "**Status Kill Difference, Kill/Death, Rating Pemain**"
      ]
    },
    {
      "cell_type": "code",
      "metadata": {
        "colab": {
          "base_uri": "https://localhost:8080/",
          "height": 555
        },
        "id": "xxfnruJ7Pkf5",
        "outputId": "0537dce6-9e5a-4674-b0cb-98b32ca12104"
      },
      "source": [
        "fig, axes = plt.subplots(1, 3, figsize=(18, 8), sharey=True)\n",
        "fig.suptitle('Grafik Penyebaran Kill Difference, Kill/Death, and Rating Pemain')\n",
        "\n",
        "sns.histplot(ax=axes[0], x=pemain_df['kd_diff'])\n",
        "axes[0].set_title('Kill Difference')\n",
        "\n",
        "sns.histplot(ax=axes[1], x=pemain_df['kd'])\n",
        "axes[1].set_title('Kill/Death')\n",
        "\n",
        "sns.histplot(ax=axes[2], x=pemain_df['rating'])\n",
        "axes[2].set_title('Rating')\n",
        "\n",
        "plt.show()"
      ],
      "execution_count": null,
      "outputs": [
        {
          "output_type": "display_data",
          "data": {
            "image/png": "[encoded data removed]",
            "text/plain": [
              "<Figure size 1296x576 with 3 Axes>"
            ]
          },
          "metadata": {
            "needs_background": "light"
          }
        }
      ]
    },
    {
      "cell_type": "markdown",
      "metadata": {
        "id": "hmhxvZAFYddH"
      },
      "source": [
        "Dari grafik diatas dapat diketahui penyebaran angka dari kill difference, kill/death, dan rating dari para pemain. Dimana terjadi distribusi normal yang menumpuk dibagian tengah kemudian menyebar kesisi-sisinya."
      ]
    },
    {
      "cell_type": "markdown",
      "metadata": {
        "id": "eqYyhtmkAxcK"
      },
      "source": [
        "**Grafik Penyebaran Total Maps dan Total Rounds**"
      ]
    },
    {
      "cell_type": "code",
      "metadata": {
        "colab": {
          "base_uri": "https://localhost:8080/",
          "height": 678
        },
        "id": "dVM-TZtVYeGY",
        "outputId": "5f9b8443-b418-43d5-b23c-df17a4127be5"
      },
      "source": [
        "fig, axes = plt.subplots(1, 2, figsize=(18, 10), sharey=True)\n",
        "fig.suptitle('Grafik Penyebaran Total Maps dan Total Rounds')\n",
        "\n",
        "sns.histplot(ax=axes[0], x=pemain_df['total_maps'])\n",
        "axes[0].set_title('Total Map')\n",
        "\n",
        "sns.histplot(ax=axes[1], x=pemain_df['total_rounds'])\n",
        "axes[1].set_title('Total Rounds')\n",
        "\n",
        "\n",
        "plt.show()"
      ],
      "execution_count": null,
      "outputs": [
        {
          "output_type": "display_data",
          "data": {
            "image/png": "[encoded data removed]",
            "text/plain": [
              "<Figure size 1296x720 with 2 Axes>"
            ]
          },
          "metadata": {
            "needs_background": "light"
          }
        }
      ]
    },
    {
      "cell_type": "markdown",
      "metadata": {
        "id": "0kjbjds8lrz0"
      },
      "source": [
        "Dari Grafik Penyebaran Total Maps dan Total Rounds ini dapat dilihat bahwa grafik berbentuk eksponensial, semakin banyak total maps/total rounds, semakin sedikit pemainnya."
      ]
    },
    {
      "cell_type": "markdown",
      "metadata": {
        "id": "bfzjJdMIlVK7"
      },
      "source": [
        "**10 Pemain Terbaik**"
      ]
    },
    {
      "cell_type": "code",
      "metadata": {
        "id": "jg5dy0UxkTs7",
        "colab": {
          "base_uri": "https://localhost:8080/",
          "height": 359
        },
        "outputId": "d8719a10-9969-4a39-8ace-78929f7cd0a0"
      },
      "source": [
        "pemain_terbaik_10 = pemain_df.head(10)\n",
        "pemain_terbaik_10.index +=1\n",
        "pemain_terbaik_10"
      ],
      "execution_count": null,
      "outputs": [
        {
          "output_type": "execute_result",
          "data": {
            "text/html": [
              "<div>\n",
              "<style scoped>\n",
              "    .dataframe tbody tr th:only-of-type {\n",
              "        vertical-align: middle;\n",
              "    }\n",
              "\n",
              "    .dataframe tbody tr th {\n",
              "        vertical-align: top;\n",
              "    }\n",
              "\n",
              "    .dataframe thead th {\n",
              "        text-align: right;\n",
              "    }\n",
              "</style>\n",
              "<table border=\"1\" class=\"dataframe\">\n",
              "  <thead>\n",
              "    <tr style=\"text-align: right;\">\n",
              "      <th></th>\n",
              "      <th>name</th>\n",
              "      <th>country</th>\n",
              "      <th>teams</th>\n",
              "      <th>total_maps</th>\n",
              "      <th>total_rounds</th>\n",
              "      <th>kd_diff</th>\n",
              "      <th>kd</th>\n",
              "      <th>rating</th>\n",
              "    </tr>\n",
              "  </thead>\n",
              "  <tbody>\n",
              "    <tr>\n",
              "      <th>1</th>\n",
              "      <td>ZywOo</td>\n",
              "      <td>France</td>\n",
              "      <td>['Vitality', 'aAa']</td>\n",
              "      <td>854</td>\n",
              "      <td>22399</td>\n",
              "      <td>5248</td>\n",
              "      <td>1.38</td>\n",
              "      <td>1.28</td>\n",
              "    </tr>\n",
              "    <tr>\n",
              "      <th>2</th>\n",
              "      <td>s1mple</td>\n",
              "      <td>Ukraine</td>\n",
              "      <td>['Natus Vincere', 'FlipSid3']</td>\n",
              "      <td>1429</td>\n",
              "      <td>37717</td>\n",
              "      <td>8070</td>\n",
              "      <td>1.33</td>\n",
              "      <td>1.25</td>\n",
              "    </tr>\n",
              "    <tr>\n",
              "      <th>3</th>\n",
              "      <td>deko</td>\n",
              "      <td>Russia</td>\n",
              "      <td>['1WIN']</td>\n",
              "      <td>190</td>\n",
              "      <td>5096</td>\n",
              "      <td>1250</td>\n",
              "      <td>1.42</td>\n",
              "      <td>1.24</td>\n",
              "    </tr>\n",
              "    <tr>\n",
              "      <th>4</th>\n",
              "      <td>saffee</td>\n",
              "      <td>Brazil</td>\n",
              "      <td>['paiN']</td>\n",
              "      <td>202</td>\n",
              "      <td>5383</td>\n",
              "      <td>1211</td>\n",
              "      <td>1.37</td>\n",
              "      <td>1.24</td>\n",
              "    </tr>\n",
              "    <tr>\n",
              "      <th>5</th>\n",
              "      <td>sh1ro</td>\n",
              "      <td>Russia</td>\n",
              "      <td>['Gambit', 'Gambit Youngsters']</td>\n",
              "      <td>744</td>\n",
              "      <td>19780</td>\n",
              "      <td>4593</td>\n",
              "      <td>1.43</td>\n",
              "      <td>1.22</td>\n",
              "    </tr>\n",
              "    <tr>\n",
              "      <th>6</th>\n",
              "      <td>m0NESY</td>\n",
              "      <td>Russia</td>\n",
              "      <td>['NAVI Junior']</td>\n",
              "      <td>144</td>\n",
              "      <td>3687</td>\n",
              "      <td>709</td>\n",
              "      <td>1.31</td>\n",
              "      <td>1.21</td>\n",
              "    </tr>\n",
              "    <tr>\n",
              "      <th>7</th>\n",
              "      <td>Kaze</td>\n",
              "      <td>Malaysia</td>\n",
              "      <td>['ViCi', 'Flash', 'MVP.karnal']</td>\n",
              "      <td>784</td>\n",
              "      <td>20459</td>\n",
              "      <td>3900</td>\n",
              "      <td>1.32</td>\n",
              "      <td>1.20</td>\n",
              "    </tr>\n",
              "    <tr>\n",
              "      <th>8</th>\n",
              "      <td>degster</td>\n",
              "      <td>Russia</td>\n",
              "      <td>['Spirit', 'Spirit', 'Espada']</td>\n",
              "      <td>555</td>\n",
              "      <td>14868</td>\n",
              "      <td>2745</td>\n",
              "      <td>1.31</td>\n",
              "      <td>1.19</td>\n",
              "    </tr>\n",
              "    <tr>\n",
              "      <th>9</th>\n",
              "      <td>sterling</td>\n",
              "      <td>New Zealand</td>\n",
              "      <td>['AVANT', 'Dire Wolves', 'Grayhound', 'Legacy'...</td>\n",
              "      <td>702</td>\n",
              "      <td>18010</td>\n",
              "      <td>3532</td>\n",
              "      <td>1.33</td>\n",
              "      <td>1.19</td>\n",
              "    </tr>\n",
              "    <tr>\n",
              "      <th>10</th>\n",
              "      <td>d4v41</td>\n",
              "      <td>Malaysia</td>\n",
              "      <td>['BOOT', 'FrostFire', 'Fire Dragoon', 'BOOT-d[...</td>\n",
              "      <td>308</td>\n",
              "      <td>8005</td>\n",
              "      <td>1358</td>\n",
              "      <td>1.27</td>\n",
              "      <td>1.18</td>\n",
              "    </tr>\n",
              "  </tbody>\n",
              "</table>\n",
              "</div>"
            ],
            "text/plain": [
              "        name      country  ...    kd  rating\n",
              "1      ZywOo       France  ...  1.38    1.28\n",
              "2     s1mple      Ukraine  ...  1.33    1.25\n",
              "3       deko       Russia  ...  1.42    1.24\n",
              "4     saffee       Brazil  ...  1.37    1.24\n",
              "5      sh1ro       Russia  ...  1.43    1.22\n",
              "6     m0NESY       Russia  ...  1.31    1.21\n",
              "7       Kaze     Malaysia  ...  1.32    1.20\n",
              "8    degster       Russia  ...  1.31    1.19\n",
              "9   sterling  New Zealand  ...  1.33    1.19\n",
              "10     d4v41     Malaysia  ...  1.27    1.18\n",
              "\n",
              "[10 rows x 8 columns]"
            ]
          },
          "metadata": {},
          "execution_count": 89
        }
      ]
    },
    {
      "cell_type": "markdown",
      "metadata": {
        "id": "zTYgoZGunnfk"
      },
      "source": [
        "Tabel diatas merupakan tabel berisikan 10 pemain terbaik yang dinilai berdasarkan rating, Lalu pada analisis selanjutnya akan dibahas dari 10 pemain terbaik diatas.\n"
      ]
    },
    {
      "cell_type": "markdown",
      "metadata": {
        "id": "QXsFwA2St3AV"
      },
      "source": [
        "**10 Pemain dengan Jumlah Maps Dimainkan Terbanyak**"
      ]
    },
    {
      "cell_type": "code",
      "metadata": {
        "colab": {
          "base_uri": "https://localhost:8080/",
          "height": 359
        },
        "id": "MuxL07iWpJKG",
        "outputId": "f3f86970-37ce-46e1-eda5-4c48459414a0"
      },
      "source": [
        "map_terbaik_10 = pemain_df[['name','total_maps']].sort_values('total_maps', ascending=False).head(10)\n",
        "map_terbaik_10.index +=1\n",
        "map_terbaik_10"
      ],
      "execution_count": null,
      "outputs": [
        {
          "output_type": "execute_result",
          "data": {
            "text/html": [
              "<div>\n",
              "<style scoped>\n",
              "    .dataframe tbody tr th:only-of-type {\n",
              "        vertical-align: middle;\n",
              "    }\n",
              "\n",
              "    .dataframe tbody tr th {\n",
              "        vertical-align: top;\n",
              "    }\n",
              "\n",
              "    .dataframe thead th {\n",
              "        text-align: right;\n",
              "    }\n",
              "</style>\n",
              "<table border=\"1\" class=\"dataframe\">\n",
              "  <thead>\n",
              "    <tr style=\"text-align: right;\">\n",
              "      <th></th>\n",
              "      <th>name</th>\n",
              "      <th>total_maps</th>\n",
              "    </tr>\n",
              "  </thead>\n",
              "  <tbody>\n",
              "    <tr>\n",
              "      <th>1243</th>\n",
              "      <td>TaZ</td>\n",
              "      <td>2064</td>\n",
              "    </tr>\n",
              "    <tr>\n",
              "      <th>554</th>\n",
              "      <td>NBK-</td>\n",
              "      <td>2025</td>\n",
              "    </tr>\n",
              "    <tr>\n",
              "      <th>429</th>\n",
              "      <td>Snax</td>\n",
              "      <td>2024</td>\n",
              "    </tr>\n",
              "    <tr>\n",
              "      <th>865</th>\n",
              "      <td>Furlan</td>\n",
              "      <td>1951</td>\n",
              "    </tr>\n",
              "    <tr>\n",
              "      <th>1198</th>\n",
              "      <td>NEO</td>\n",
              "      <td>1933</td>\n",
              "    </tr>\n",
              "    <tr>\n",
              "      <th>82</th>\n",
              "      <td>f0rest</td>\n",
              "      <td>1929</td>\n",
              "    </tr>\n",
              "    <tr>\n",
              "      <th>691</th>\n",
              "      <td>bubble</td>\n",
              "      <td>1923</td>\n",
              "    </tr>\n",
              "    <tr>\n",
              "      <th>365</th>\n",
              "      <td>JW</td>\n",
              "      <td>1879</td>\n",
              "    </tr>\n",
              "    <tr>\n",
              "      <th>196</th>\n",
              "      <td>shox</td>\n",
              "      <td>1873</td>\n",
              "    </tr>\n",
              "    <tr>\n",
              "      <th>729</th>\n",
              "      <td>SZPERO</td>\n",
              "      <td>1864</td>\n",
              "    </tr>\n",
              "  </tbody>\n",
              "</table>\n",
              "</div>"
            ],
            "text/plain": [
              "        name  total_maps\n",
              "1243     TaZ        2064\n",
              "554     NBK-        2025\n",
              "429     Snax        2024\n",
              "865   Furlan        1951\n",
              "1198     NEO        1933\n",
              "82    f0rest        1929\n",
              "691   bubble        1923\n",
              "365       JW        1879\n",
              "196     shox        1873\n",
              "729   SZPERO        1864"
            ]
          },
          "metadata": {},
          "execution_count": 90
        }
      ]
    },
    {
      "cell_type": "code",
      "metadata": {
        "colab": {
          "base_uri": "https://localhost:8080/",
          "height": 606
        },
        "id": "4cuN1VmYtlpy",
        "outputId": "0194ae96-3e6b-4ae0-b326-e7f41e83154d"
      },
      "source": [
        "plt.figure(figsize=(12,10))\n",
        "sns.barplot(x=map_terbaik_10['name'], y=map_terbaik_10['total_maps'])\n",
        "plt.show()"
      ],
      "execution_count": null,
      "outputs": [
        {
          "output_type": "display_data",
          "data": {
            "image/png": "[encoded data removed]",
            "text/plain": [
              "<Figure size 864x720 with 1 Axes>"
            ]
          },
          "metadata": {
            "needs_background": "light"
          }
        }
      ]
    },
    {
      "cell_type": "markdown",
      "metadata": {
        "id": "r1s7eFl3pUqn"
      },
      "source": [
        "Total Maps dimainkan dapat menentukan pengalaman pemain dengan seberapa banyak mereka bermain. Dapat dilihat dari grafik diatas, pemain yang memainkan Map terbanyak yaitu TaZ, dilanjut NBK-, Snax, dan lain-lain, namun tidak terdapat nama dari 10 pemain terbaik. "
      ]
    },
    {
      "cell_type": "markdown",
      "metadata": {
        "id": "MVQK289auBsT"
      },
      "source": [
        "**10 Pemain dengan Jumlah Ronde Dimainkan Terbanyak**"
      ]
    },
    {
      "cell_type": "code",
      "metadata": {
        "colab": {
          "base_uri": "https://localhost:8080/",
          "height": 359
        },
        "id": "IK7sKFKwuHuI",
        "outputId": "9e1a05c9-94ee-4a1c-d2b2-76727c2612b3"
      },
      "source": [
        "ronde_terbaik_10 = pemain_df[['name','total_rounds']].sort_values('total_rounds', ascending=False).head(10)\n",
        "ronde_terbaik_10.index +=1\n",
        "ronde_terbaik_10"
      ],
      "execution_count": null,
      "outputs": [
        {
          "output_type": "execute_result",
          "data": {
            "text/html": [
              "<div>\n",
              "<style scoped>\n",
              "    .dataframe tbody tr th:only-of-type {\n",
              "        vertical-align: middle;\n",
              "    }\n",
              "\n",
              "    .dataframe tbody tr th {\n",
              "        vertical-align: top;\n",
              "    }\n",
              "\n",
              "    .dataframe thead th {\n",
              "        text-align: right;\n",
              "    }\n",
              "</style>\n",
              "<table border=\"1\" class=\"dataframe\">\n",
              "  <thead>\n",
              "    <tr style=\"text-align: right;\">\n",
              "      <th></th>\n",
              "      <th>name</th>\n",
              "      <th>total_rounds</th>\n",
              "    </tr>\n",
              "  </thead>\n",
              "  <tbody>\n",
              "    <tr>\n",
              "      <th>1243</th>\n",
              "      <td>TaZ</td>\n",
              "      <td>54137</td>\n",
              "    </tr>\n",
              "    <tr>\n",
              "      <th>429</th>\n",
              "      <td>Snax</td>\n",
              "      <td>53382</td>\n",
              "    </tr>\n",
              "    <tr>\n",
              "      <th>554</th>\n",
              "      <td>NBK-</td>\n",
              "      <td>52921</td>\n",
              "    </tr>\n",
              "    <tr>\n",
              "      <th>865</th>\n",
              "      <td>Furlan</td>\n",
              "      <td>51887</td>\n",
              "    </tr>\n",
              "    <tr>\n",
              "      <th>1198</th>\n",
              "      <td>NEO</td>\n",
              "      <td>50399</td>\n",
              "    </tr>\n",
              "    <tr>\n",
              "      <th>691</th>\n",
              "      <td>bubble</td>\n",
              "      <td>50230</td>\n",
              "    </tr>\n",
              "    <tr>\n",
              "      <th>82</th>\n",
              "      <td>f0rest</td>\n",
              "      <td>49895</td>\n",
              "    </tr>\n",
              "    <tr>\n",
              "      <th>365</th>\n",
              "      <td>JW</td>\n",
              "      <td>49346</td>\n",
              "    </tr>\n",
              "    <tr>\n",
              "      <th>729</th>\n",
              "      <td>SZPERO</td>\n",
              "      <td>49189</td>\n",
              "    </tr>\n",
              "    <tr>\n",
              "      <th>196</th>\n",
              "      <td>shox</td>\n",
              "      <td>49128</td>\n",
              "    </tr>\n",
              "  </tbody>\n",
              "</table>\n",
              "</div>"
            ],
            "text/plain": [
              "        name  total_rounds\n",
              "1243     TaZ         54137\n",
              "429     Snax         53382\n",
              "554     NBK-         52921\n",
              "865   Furlan         51887\n",
              "1198     NEO         50399\n",
              "691   bubble         50230\n",
              "82    f0rest         49895\n",
              "365       JW         49346\n",
              "729   SZPERO         49189\n",
              "196     shox         49128"
            ]
          },
          "metadata": {},
          "execution_count": 92
        }
      ]
    },
    {
      "cell_type": "code",
      "metadata": {
        "colab": {
          "base_uri": "https://localhost:8080/",
          "height": 606
        },
        "id": "3oZPJXsFxyk7",
        "outputId": "4aaf88bc-6064-4400-d286-e5354729f67c"
      },
      "source": [
        "plt.figure(figsize=(12,10))\n",
        "sns.barplot(x=ronde_terbaik_10['name'], y=ronde_terbaik_10['total_rounds'])\n",
        "plt.show()"
      ],
      "execution_count": null,
      "outputs": [
        {
          "output_type": "display_data",
          "data": {
            "image/png": "[encoded data removed]",
            "text/plain": [
              "<Figure size 864x720 with 1 Axes>"
            ]
          },
          "metadata": {
            "needs_background": "light"
          }
        }
      ]
    },
    {
      "cell_type": "markdown",
      "metadata": {
        "id": "6FfFJJr8yvhe"
      },
      "source": [
        "Dari grafik diatas dapat dilihat pemain dengan jumlah ronde dimainkan terbanyak linier dengan pemain dengan jumlah maps dimainkan terbanyak, karena pada setiap maps dimainkan, terdapat kemungkinan ronde yang dimainkan adalah kurang lebih 30 ronde, apabila permainan tidak sengit dapat berakhir dalam 15 ronde, apabila sengit dapat lebih dari 30 ronde.\n",
        "\n",
        "Namun dapat dilihat juga tidak terdapat nama 10 pemain terbaik diatas, hal ini menandakan bahwa pengalaman bermain yang banyak, tidak menentukan kemampuan mekanik pemain dalam bermain."
      ]
    },
    {
      "cell_type": "markdown",
      "metadata": {
        "id": "g3eVib5z0HXJ"
      },
      "source": [
        "**Top 10 Kill per Death**"
      ]
    },
    {
      "cell_type": "code",
      "metadata": {
        "colab": {
          "base_uri": "https://localhost:8080/",
          "height": 359
        },
        "id": "O2YNeIKTnwGe",
        "outputId": "2d167e90-1a59-41fa-fdc8-781cb77157a6"
      },
      "source": [
        "kd_terbaik_10 = pemain_df[['name','kd']].sort_values('kd', ascending=False).head(10)\n",
        "kd_terbaik_10.index+=1\n",
        "kd_terbaik_10"
      ],
      "execution_count": null,
      "outputs": [
        {
          "output_type": "execute_result",
          "data": {
            "text/html": [
              "<div>\n",
              "<style scoped>\n",
              "    .dataframe tbody tr th:only-of-type {\n",
              "        vertical-align: middle;\n",
              "    }\n",
              "\n",
              "    .dataframe tbody tr th {\n",
              "        vertical-align: top;\n",
              "    }\n",
              "\n",
              "    .dataframe thead th {\n",
              "        text-align: right;\n",
              "    }\n",
              "</style>\n",
              "<table border=\"1\" class=\"dataframe\">\n",
              "  <thead>\n",
              "    <tr style=\"text-align: right;\">\n",
              "      <th></th>\n",
              "      <th>name</th>\n",
              "      <th>kd</th>\n",
              "    </tr>\n",
              "  </thead>\n",
              "  <tbody>\n",
              "    <tr>\n",
              "      <th>5</th>\n",
              "      <td>sh1ro</td>\n",
              "      <td>1.43</td>\n",
              "    </tr>\n",
              "    <tr>\n",
              "      <th>3</th>\n",
              "      <td>deko</td>\n",
              "      <td>1.42</td>\n",
              "    </tr>\n",
              "    <tr>\n",
              "      <th>1</th>\n",
              "      <td>ZywOo</td>\n",
              "      <td>1.38</td>\n",
              "    </tr>\n",
              "    <tr>\n",
              "      <th>4</th>\n",
              "      <td>saffee</td>\n",
              "      <td>1.37</td>\n",
              "    </tr>\n",
              "    <tr>\n",
              "      <th>9</th>\n",
              "      <td>sterling</td>\n",
              "      <td>1.33</td>\n",
              "    </tr>\n",
              "    <tr>\n",
              "      <th>20</th>\n",
              "      <td>SENSEi</td>\n",
              "      <td>1.33</td>\n",
              "    </tr>\n",
              "    <tr>\n",
              "      <th>2</th>\n",
              "      <td>s1mple</td>\n",
              "      <td>1.33</td>\n",
              "    </tr>\n",
              "    <tr>\n",
              "      <th>7</th>\n",
              "      <td>Kaze</td>\n",
              "      <td>1.32</td>\n",
              "    </tr>\n",
              "    <tr>\n",
              "      <th>6</th>\n",
              "      <td>m0NESY</td>\n",
              "      <td>1.31</td>\n",
              "    </tr>\n",
              "    <tr>\n",
              "      <th>8</th>\n",
              "      <td>degster</td>\n",
              "      <td>1.31</td>\n",
              "    </tr>\n",
              "  </tbody>\n",
              "</table>\n",
              "</div>"
            ],
            "text/plain": [
              "        name    kd\n",
              "5      sh1ro  1.43\n",
              "3       deko  1.42\n",
              "1      ZywOo  1.38\n",
              "4     saffee  1.37\n",
              "9   sterling  1.33\n",
              "20    SENSEi  1.33\n",
              "2     s1mple  1.33\n",
              "7       Kaze  1.32\n",
              "6     m0NESY  1.31\n",
              "8    degster  1.31"
            ]
          },
          "metadata": {},
          "execution_count": 94
        }
      ]
    },
    {
      "cell_type": "code",
      "metadata": {
        "colab": {
          "base_uri": "https://localhost:8080/",
          "height": 606
        },
        "id": "SAXWN-RH4vAq",
        "outputId": "56f5c833-a8f8-4a6a-defb-fd8df10011c8"
      },
      "source": [
        "plt.figure(figsize=(12,10))\n",
        "sns.barplot(x=kd_terbaik_10['name'], y=kd_terbaik_10['kd'])\n",
        "plt.show()"
      ],
      "execution_count": null,
      "outputs": [
        {
          "output_type": "display_data",
          "data": {
            "image/png": "[encoded data removed]",
            "text/plain": [
              "<Figure size 864x720 with 1 Axes>"
            ]
          },
          "metadata": {
            "needs_background": "light"
          }
        }
      ]
    },
    {
      "cell_type": "markdown",
      "metadata": {
        "id": "x4bVEMND454Z"
      },
      "source": [
        "Dari grafik diatas dapat dilihat bahwa 10 pemain terbaik masuk kedalamnya, namun ada 1 pemain yaitu pemain terbaik ke-10 yang digeser oleh pemain terbaik ke-20 yaitu SENSEi. Namun tetap dapat disimpulkan bahwa kill/death masih linier dengan rating."
      ]
    },
    {
      "cell_type": "markdown",
      "metadata": {
        "id": "2g_5xfbx5jTi"
      },
      "source": [
        "**Top 10 Kill Difference**"
      ]
    },
    {
      "cell_type": "code",
      "metadata": {
        "colab": {
          "base_uri": "https://localhost:8080/",
          "height": 359
        },
        "id": "3p9h3sTq5iBN",
        "outputId": "fa684518-10a8-4879-8aee-24f9bda85c4a"
      },
      "source": [
        "diff_terbaik_10 = pemain_df[['name','kd_diff']].sort_values('kd_diff', ascending=False).head(10)\n",
        "diff_terbaik_10.index+=1\n",
        "diff_terbaik_10"
      ],
      "execution_count": null,
      "outputs": [
        {
          "output_type": "execute_result",
          "data": {
            "text/html": [
              "<div>\n",
              "<style scoped>\n",
              "    .dataframe tbody tr th:only-of-type {\n",
              "        vertical-align: middle;\n",
              "    }\n",
              "\n",
              "    .dataframe tbody tr th {\n",
              "        vertical-align: top;\n",
              "    }\n",
              "\n",
              "    .dataframe thead th {\n",
              "        text-align: right;\n",
              "    }\n",
              "</style>\n",
              "<table border=\"1\" class=\"dataframe\">\n",
              "  <thead>\n",
              "    <tr style=\"text-align: right;\">\n",
              "      <th></th>\n",
              "      <th>name</th>\n",
              "      <th>kd_diff</th>\n",
              "    </tr>\n",
              "  </thead>\n",
              "  <tbody>\n",
              "    <tr>\n",
              "      <th>2</th>\n",
              "      <td>s1mple</td>\n",
              "      <td>8070</td>\n",
              "    </tr>\n",
              "    <tr>\n",
              "      <th>23</th>\n",
              "      <td>device</td>\n",
              "      <td>7005</td>\n",
              "    </tr>\n",
              "    <tr>\n",
              "      <th>54</th>\n",
              "      <td>kennyS</td>\n",
              "      <td>6344</td>\n",
              "    </tr>\n",
              "    <tr>\n",
              "      <th>22</th>\n",
              "      <td>coldzera</td>\n",
              "      <td>5661</td>\n",
              "    </tr>\n",
              "    <tr>\n",
              "      <th>82</th>\n",
              "      <td>f0rest</td>\n",
              "      <td>5571</td>\n",
              "    </tr>\n",
              "    <tr>\n",
              "      <th>16</th>\n",
              "      <td>XANTARES</td>\n",
              "      <td>5320</td>\n",
              "    </tr>\n",
              "    <tr>\n",
              "      <th>1</th>\n",
              "      <td>ZywOo</td>\n",
              "      <td>5248</td>\n",
              "    </tr>\n",
              "    <tr>\n",
              "      <th>32</th>\n",
              "      <td>NiKo</td>\n",
              "      <td>4942</td>\n",
              "    </tr>\n",
              "    <tr>\n",
              "      <th>40</th>\n",
              "      <td>Jame</td>\n",
              "      <td>4765</td>\n",
              "    </tr>\n",
              "    <tr>\n",
              "      <th>80</th>\n",
              "      <td>GuardiaN</td>\n",
              "      <td>4753</td>\n",
              "    </tr>\n",
              "  </tbody>\n",
              "</table>\n",
              "</div>"
            ],
            "text/plain": [
              "        name  kd_diff\n",
              "2     s1mple     8070\n",
              "23    device     7005\n",
              "54    kennyS     6344\n",
              "22  coldzera     5661\n",
              "82    f0rest     5571\n",
              "16  XANTARES     5320\n",
              "1      ZywOo     5248\n",
              "32      NiKo     4942\n",
              "40      Jame     4765\n",
              "80  GuardiaN     4753"
            ]
          },
          "metadata": {},
          "execution_count": 96
        }
      ]
    },
    {
      "cell_type": "code",
      "metadata": {
        "colab": {
          "base_uri": "https://localhost:8080/",
          "height": 606
        },
        "id": "Ssr0O4Z45isg",
        "outputId": "e1ccae55-a69e-4e89-9969-ad8e18d4b08d"
      },
      "source": [
        "plt.figure(figsize=(12,10))\n",
        "sns.barplot(x=diff_terbaik_10['name'], y=diff_terbaik_10['kd_diff'])\n",
        "plt.show()"
      ],
      "execution_count": null,
      "outputs": [
        {
          "output_type": "display_data",
          "data": {
            "image/png": "[encoded data removed]",
            "text/plain": [
              "<Figure size 864x720 with 1 Axes>"
            ]
          },
          "metadata": {
            "needs_background": "light"
          }
        }
      ]
    },
    {
      "cell_type": "markdown",
      "metadata": {
        "id": "lJZRAuMq50F9"
      },
      "source": [
        "Dapat dilihat bahwa pemain dengan kill difference terbaik hanya terdapat 2 dari daftar 10 terbaik. Dengan peringkat pertama s1mple yang menempati posisi 2 terbaik dengan kill difference terbesar. "
      ]
    },
    {
      "cell_type": "markdown",
      "metadata": {
        "id": "lUCIGfYK6Vdd"
      },
      "source": [
        "Selanjutnya kita akan melihat korelasi dari semua data diatas dengan correlation matrix."
      ]
    },
    {
      "cell_type": "markdown",
      "metadata": {
        "id": "tIBtD8NM7L_O"
      },
      "source": [
        "**Correlation Matrix**"
      ]
    },
    {
      "cell_type": "code",
      "metadata": {
        "colab": {
          "base_uri": "https://localhost:8080/",
          "height": 204
        },
        "id": "D4p69-896RrX",
        "outputId": "11944e22-e219-45ab-b9af-36dea4c46d22"
      },
      "source": [
        "corr_matrix=pemain_df.corr()\n",
        "corr_matrix"
      ],
      "execution_count": null,
      "outputs": [
        {
          "output_type": "execute_result",
          "data": {
            "text/html": [
              "<div>\n",
              "<style scoped>\n",
              "    .dataframe tbody tr th:only-of-type {\n",
              "        vertical-align: middle;\n",
              "    }\n",
              "\n",
              "    .dataframe tbody tr th {\n",
              "        vertical-align: top;\n",
              "    }\n",
              "\n",
              "    .dataframe thead th {\n",
              "        text-align: right;\n",
              "    }\n",
              "</style>\n",
              "<table border=\"1\" class=\"dataframe\">\n",
              "  <thead>\n",
              "    <tr style=\"text-align: right;\">\n",
              "      <th></th>\n",
              "      <th>total_maps</th>\n",
              "      <th>total_rounds</th>\n",
              "      <th>kd_diff</th>\n",
              "      <th>kd</th>\n",
              "      <th>rating</th>\n",
              "    </tr>\n",
              "  </thead>\n",
              "  <tbody>\n",
              "    <tr>\n",
              "      <th>total_maps</th>\n",
              "      <td>1.000000</td>\n",
              "      <td>0.999800</td>\n",
              "      <td>0.443814</td>\n",
              "      <td>0.331059</td>\n",
              "      <td>0.303886</td>\n",
              "    </tr>\n",
              "    <tr>\n",
              "      <th>total_rounds</th>\n",
              "      <td>0.999800</td>\n",
              "      <td>1.000000</td>\n",
              "      <td>0.442883</td>\n",
              "      <td>0.330561</td>\n",
              "      <td>0.303443</td>\n",
              "    </tr>\n",
              "    <tr>\n",
              "      <th>kd_diff</th>\n",
              "      <td>0.443814</td>\n",
              "      <td>0.442883</td>\n",
              "      <td>1.000000</td>\n",
              "      <td>0.760398</td>\n",
              "      <td>0.732967</td>\n",
              "    </tr>\n",
              "    <tr>\n",
              "      <th>kd</th>\n",
              "      <td>0.331059</td>\n",
              "      <td>0.330561</td>\n",
              "      <td>0.760398</td>\n",
              "      <td>1.000000</td>\n",
              "      <td>0.981647</td>\n",
              "    </tr>\n",
              "    <tr>\n",
              "      <th>rating</th>\n",
              "      <td>0.303886</td>\n",
              "      <td>0.303443</td>\n",
              "      <td>0.732967</td>\n",
              "      <td>0.981647</td>\n",
              "      <td>1.000000</td>\n",
              "    </tr>\n",
              "  </tbody>\n",
              "</table>\n",
              "</div>"
            ],
            "text/plain": [
              "              total_maps  total_rounds   kd_diff        kd    rating\n",
              "total_maps      1.000000      0.999800  0.443814  0.331059  0.303886\n",
              "total_rounds    0.999800      1.000000  0.442883  0.330561  0.303443\n",
              "kd_diff         0.443814      0.442883  1.000000  0.760398  0.732967\n",
              "kd              0.331059      0.330561  0.760398  1.000000  0.981647\n",
              "rating          0.303886      0.303443  0.732967  0.981647  1.000000"
            ]
          },
          "metadata": {},
          "execution_count": 98
        }
      ]
    },
    {
      "cell_type": "markdown",
      "metadata": {
        "id": "uD4mXkgX7m8e"
      },
      "source": [
        "Lalu kita terpkan kedalam HeatMap"
      ]
    },
    {
      "cell_type": "code",
      "metadata": {
        "colab": {
          "base_uri": "https://localhost:8080/",
          "height": 505
        },
        "id": "Nz-0LEum7lnC",
        "outputId": "a90f0454-25f8-47c9-a82c-f7760f576c19"
      },
      "source": [
        "plt.figure(figsize=(10,8))\n",
        "sns.heatmap(corr_matrix, annot=True)\n",
        "plt.title('Correlation Heat Map', size=20)\n",
        "plt.show()"
      ],
      "execution_count": null,
      "outputs": [
        {
          "output_type": "display_data",
          "data": {
            "image/png": "[encoded data removed]",
            "text/plain": [
              "<Figure size 720x576 with 2 Axes>"
            ]
          },
          "metadata": {
            "needs_background": "light"
          }
        }
      ]
    },
    {
      "cell_type": "markdown",
      "metadata": {
        "id": "f9y5Dj8-8rGE"
      },
      "source": [
        "**Kesimpulan**"
      ]
    },
    {
      "cell_type": "markdown",
      "metadata": {
        "id": "gISPc7Xg8CMk"
      },
      "source": [
        "Dapat disimpulkan dari HeatMap diatas bahwa rating seorang pemain ditentukan dengan faktor terbesar yaitu Kill per Death dan Kill Difference dari pemain, pengalaman pemain berdasarkan total maps dan total rounds tidak berpengaruh besar terhadap rating pemain."
      ]
    }
  ]
}